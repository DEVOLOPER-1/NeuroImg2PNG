{
  "nbformat": 4,
  "nbformat_minor": 0,
  "metadata": {
    "colab": {
      "provenance": [],
      "private_outputs": true
    },
    "kernelspec": {
      "name": "python3",
      "display_name": "Python 3"
    },
    "language_info": {
      "name": "python"
    }
  },
  "cells": [
    {
      "cell_type": "code",
      "source": [
        "!pip install scipy\n",
        "\n",
        "!pip install pytest-shutil\n",
        "\n",
        "!pip install nibabel\n",
        "\n",
        "!pip install numpy\n",
        "\n",
        "!pip install imageio\n",
        "\n",
        "!pip install nii2png"
      ],
      "metadata": {
        "id": "pX3S1qDSnuW7"
      },
      "execution_count": null,
      "outputs": []
    },
    {
      "cell_type": "markdown",
      "source": [
        "#Importing Libraries"
      ],
      "metadata": {
        "id": "W3y_Y9YSnweO"
      }
    },
    {
      "cell_type": "code",
      "source": [
        "import os\n",
        "import gzip\n",
        "import numpy as np\n",
        "import nibabel as nib\n",
        "import matplotlib.pyplot as plt\n",
        "import cv2\n"
      ],
      "metadata": {
        "id": "i4E2wVEneuVn"
      },
      "execution_count": null,
      "outputs": []
    },
    {
      "cell_type": "markdown",
      "source": [
        "#Mounting Google Drive"
      ],
      "metadata": {
        "id": "Rk_oqFFQd43g"
      }
    },
    {
      "cell_type": "code",
      "execution_count": null,
      "metadata": {
        "id": "fpXZLiFWdaIw"
      },
      "outputs": [],
      "source": [
        "from google.colab import drive\n",
        "drive.mount('/content/drive')"
      ]
    },
    {
      "cell_type": "code",
      "source": [
        "Main_folder_path = '/content/drive/MyDrive/ABIDEII-BNI_1'"
      ],
      "metadata": {
        "id": "PckktJt4d4V1"
      },
      "execution_count": null,
      "outputs": []
    },
    {
      "cell_type": "code",
      "source": [
        "fmri_folder_path = '/content/drive/MyDrive/ABIDEII-BNI_1/fmri'"
      ],
      "metadata": {
        "id": "G-NWEkAifvrx"
      },
      "execution_count": null,
      "outputs": []
    },
    {
      "cell_type": "code",
      "source": [
        "smri_folder_path = os.path.join(Main_folder_path, 'smri')"
      ],
      "metadata": {
        "id": "EHAiN3o8foyS"
      },
      "execution_count": null,
      "outputs": []
    },
    {
      "cell_type": "markdown",
      "source": [
        "#Data Cleansing in fmri dir and extracting .nii files from .gz compression"
      ],
      "metadata": {
        "id": "WN9B-RcgmXr9"
      }
    },
    {
      "cell_type": "code",
      "source": [
        "for folder in os.listdir(fmri_folder_path):\n",
        "  if os.path.isdir(os.path.join(fmri_folder_path , folder , 'rest_1')):\n",
        "    # isdir = True\n",
        "    # print(f'{folder} : {isdir}')\n",
        "    if os.path.isfile(os.path.join(fmri_folder_path , folder , 'rest_1','rest.nii.gz')):\n",
        "      #os.remove(os.path.join(fmri_folder_path , folder , 'rest_1','rest.nii')) #Iam removing the all pre - extracted nii files for a clean extraction for the new .nii files\n",
        "      print(f'The following file : rest.nii.gz is present in {folder}')\n",
        "      os.system('gunzip --keep '  + os.path.join(fmri_folder_path , folder , 'rest_1','rest.nii'))"
      ],
      "metadata": {
        "id": "skCCBtPpe4yK"
      },
      "execution_count": null,
      "outputs": []
    },
    {
      "cell_type": "markdown",
      "source": [
        "#Getting PNG of Each .nii file"
      ],
      "metadata": {
        "id": "ut-B3y4D0ESP"
      }
    },
    {
      "cell_type": "markdown",
      "source": [
        "# Making an Images Output folder"
      ],
      "metadata": {
        "id": "dwP2MEuWGTud"
      }
    },
    {
      "cell_type": "code",
      "source": [
        "for folder in os.listdir(fmri_folder_path):\n",
        "  if os.path.isdir(os.path.join(fmri_folder_path , folder)):\n",
        "    uncompressed_output_folder = os.path.join(fmri_folder_path, folder, 'Images Output')\n",
        "    os.makedirs(uncompressed_output_folder, exist_ok=True)\n",
        "\n"
      ],
      "metadata": {
        "id": "m9XmOHUojqwl"
      },
      "execution_count": null,
      "outputs": []
    },
    {
      "cell_type": "markdown",
      "source": [
        "# Another Approach"
      ],
      "metadata": {
        "id": "9ASLq1wtH92w"
      }
    },
    {
      "cell_type": "code",
      "source": [
        "done = [\n",
        "\n",
        "        ]\n",
        "\n",
        "# 29056, 30148, 30151, 30147, 30144, 30149, 30146, 30150, 29055,\n",
        "#     29054, 29053, 29047, 29048, 29052, 29049, 29045, 29046, 29051,\n",
        "#     29044, 29050, 29043, 29042, 29041, 29036, 29033, 29037, 29032,\n",
        "#     29035, 29038, 29034, 29040, 29039, 29031, 29030, 29024, 29022,\n",
        "#     29025, 29028, 29023, 29027, 29026, 29021, 29029,    29008, 29010, 29019, 29011, 29007, 29014, 29009, 29018,\n",
        "#             #29006"
      ],
      "metadata": {
        "id": "_exUVcD_tRZm"
      },
      "execution_count": null,
      "outputs": []
    },
    {
      "cell_type": "code",
      "source": [
        "print(done)"
      ],
      "metadata": {
        "id": "oyj80iMJu-0X"
      },
      "execution_count": null,
      "outputs": []
    },
    {
      "cell_type": "code",
      "source": [
        "for folder in os.listdir(fmri_folder_path):\n",
        "  if int(folder) in done:\n",
        "    continue\n",
        "  if os.path.isdir(os.path.join(fmri_folder_path , folder , 'rest_1')):\n",
        "    #uncompressed_output_folder = os.path.join(fmri_folder_path, folder, 'Images Output')\n",
        "    #Load the scan and extract data using nibabel\n",
        "    scan = nib.load(os.path.join(fmri_folder_path , folder , 'rest_1' , 'rest.nii'))\n",
        "    scanArray = scan.get_fdata()\n",
        "    #Get and print the scan's shape\n",
        "    scanArrayShape = scanArray.shape\n",
        "    print('The scan data array has the shape: ', scanArrayShape)\n",
        "    num_timepoints = scanArrayShape[3]\n",
        "    # Function to normalize and convert the image to uint8\n",
        "    def normalize_image(image):\n",
        "            image_cp = cp.asarray(image)\n",
        "            image_cp = image_cp - cp.min(image_cp)\n",
        "            image_cp = image_cp / cp.max(image_cp)\n",
        "            image_cp = (image_cp * 255).astype(cp.uint8)\n",
        "            return cp.asnumpy(image_cp)\n",
        "\n",
        "    for time_point in range(num_timepoints):\n",
        "      scan3D = scanArray[:, :, :, time_point]\n",
        "\n",
        "      x = scan3D[scanArrayShape[0]//2 , :, :]\n",
        "      y = scan3D[:, scanArrayShape[1]//2 , :]\n",
        "      z = scan3D[:, :, scanArrayShape[2]//2 ]\n",
        "\n",
        "      x = normalize_image(x)\n",
        "      y = normalize_image(y)\n",
        "      z = normalize_image(z)\n",
        "\n",
        "\n",
        "\n",
        "\n",
        "      # Plot and save the axial slice\n",
        "      plt.figure( frameon=False , dpi = 600)\n",
        "      plt.imshow(x  , aspect='auto', cmap = 'gray')\n",
        "      #plt.figure.set_size_inches(width = 10, height =5)\n",
        "\n",
        "      #plt.title(f'Axial Slice at Time Point {time_point}')\n",
        "      plt.axis('off')\n",
        "      plt.savefig(os.path.join(fmri_folder_path ,folder ,'Images Output' , f'x{time_point}.png') ,format='png', bbox_inches='tight', pad_inches=0)\n",
        "      plt.close()\n",
        "\n",
        "      # Plot and save the coronal slice\n",
        "      plt.figure( frameon=False , dpi = 600)\n",
        "      #plt.figure.set_size_inches(width = 10, height =5)\n",
        "      plt.imshow(y ,  aspect ='auto', cmap = 'gray')\n",
        "      #plt.title(f'Coronal Slice at Time Point {time_point}')\n",
        "      plt.axis('off')\n",
        "      plt.savefig(os.path.join(fmri_folder_path ,folder ,'Images Output', f'y{time_point}.png') ,format='png', bbox_inches='tight', pad_inches=0)\n",
        "      plt.close()\n",
        "\n",
        "      # Plot and save the sagittal slice\n",
        "      plt.figure(frameon=False , dpi = 600)\n",
        "      plt.imshow(z , aspect = 'auto' , cmap = 'gray')\n",
        "      #plt.figure.set_size_inches(width = 10, height =5)\n",
        "      #plt.title(f'Sagittal Slice at Time Point {time_point}')\n",
        "      plt.axis('off')\n",
        "      plt.savefig(os.path.join(fmri_folder_path ,folder ,'Images Output', f'z{time_point}.png') , format='png', bbox_inches='tight', pad_inches=0)\n",
        "      plt.close()\n",
        "\n",
        "  print(f\"Images saved in directory: {fmri_folder_path ,folder ,'Images Output'}\")\n",
        "  done.append(int(folder))"
      ],
      "metadata": {
        "id": "I2u4g4CDH9F_"
      },
      "execution_count": null,
      "outputs": []
    },
    {
      "cell_type": "code",
      "source": [
        "counter = 0\n",
        "for folder in os.listdir(fmri_folder_path):\n",
        "  if int(folder) not in done:\n",
        "    counter+=1\n",
        "    print(int(folder))\n",
        "print(counter)"
      ],
      "metadata": {
        "id": "nJCnNgZa_e1L"
      },
      "execution_count": null,
      "outputs": []
    },
    {
      "cell_type": "markdown",
      "source": [
        "# Manual"
      ],
      "metadata": {
        "id": "KmM73nWr_1u8"
      }
    },
    {
      "cell_type": "markdown",
      "source": [
        "The fmri 29006 .nii file is corrupted"
      ],
      "metadata": {
        "id": "2M7by8tO9YGn"
      }
    },
    {
      "cell_type": "code",
      "source": [
        "fmri_folder_path = '/content/drive/MyDrive/ABIDEII-BNI_1/fmri'  # Replace with your actual path\n",
        "file_path = os.path.join(fmri_folder_path, '29006', 'rest_1', 'rest.nii')\n",
        "scan = nib.load(file_path)\n",
        "scanArray = scan.get_fdata()\n",
        "#Get and print the scan's shape\n",
        "scanArrayShape = scanArray.shape\n",
        "print('The scan data array has the shape: ', scanArrayShape)\n",
        "num_timepoints = scanArrayShape[3]\n",
        "# Function to normalize and convert the image to uint8\n",
        "def normalize_image(image):\n",
        "    image = image - np.min(image)\n",
        "    image = image / np.max(image)\n",
        "    image = (image * 255).astype(np.uint8)\n",
        "    return image\n",
        "for time_point in range(num_timepoints):\n",
        "    scan3D = scanArray[:, :, :, time_point]\n",
        "\n",
        "    x = scan3D[scanArrayShape[0]//2 , :, :]\n",
        "    y = scan3D[:, scanArrayShape[1]//2 , :]\n",
        "    z = scan3D[:, :, scanArrayShape[2]//2 ]\n",
        "\n",
        "    x = normalize_image(x)\n",
        "    y = normalize_image(y)\n",
        "    z = normalize_image(z)\n",
        "\n",
        "\n",
        "\n",
        "\n",
        "    # Plot and save the axial slice\n",
        "    plt.figure( frameon=False,dpi =600)\n",
        "    plt.imshow(x  , aspect='auto', cmap = 'gray')\n",
        "    #plt.figure.set_size_inches(width = 10, height =5)\n",
        "\n",
        "    #plt.title(f'Axial Slice at Time Point {time_point}')\n",
        "    plt.axis('off')\n",
        "    plt.savefig(os.path.join(fmri_folder_path ,'29006' ,'Images Output' , f'x{time_point}.png') ,format='png', bbox_inches='tight', pad_inches=0)\n",
        "    plt.close()\n",
        "\n",
        "    # Plot and save the coronal slice\n",
        "    plt.figure( frameon=False,dpi=600)\n",
        "    #plt.figure.set_size_inches(width = 10, height =5)\n",
        "    plt.imshow(y ,  aspect ='auto', cmap = 'gray')\n",
        "    #plt.title(f'Coronal Slice at Time Point {time_point}')\n",
        "    plt.axis('off')\n",
        "    plt.savefig(os.path.join(fmri_folder_path ,'29006' ,'Images Output', f'y{time_point}.png') ,format='png', bbox_inches='tight', pad_inches=0)\n",
        "    plt.close()\n",
        "\n",
        "    # Plot and save the sagittal slice\n",
        "    plt.figure(frameon=False,dpi=600)\n",
        "    plt.imshow(z , aspect = 'auto' , cmap = 'gray')\n",
        "    #plt.figure.set_size_inches(width = 10, height =5)\n",
        "    #plt.title(f'Sagittal Slice at Time Point {time_point}')\n",
        "    plt.axis('off')\n",
        "    plt.savefig(os.path.join(fmri_folder_path ,'29006' ,'Images Output', f'z{time_point}.png') , format='png', bbox_inches='tight', pad_inches=0)\n",
        "    plt.close()\n",
        "\n",
        "print(f\"Images saved in directory: {fmri_folder_path ,'29006' ,'Images Output'}\")\n",
        "done.append(int('29006'))"
      ],
      "metadata": {
        "id": "5ER4wln-7lVX"
      },
      "execution_count": null,
      "outputs": []
    },
    {
      "cell_type": "markdown",
      "source": [
        "# Dealing with smri"
      ],
      "metadata": {
        "id": "s-BTL3Zh9i5i"
      }
    },
    {
      "cell_type": "code",
      "source": [
        "for folder in os.listdir(smri_folder_path):\n",
        "    if os.path.isdir(os.path.join(smri_folder_path , folder , 'anat_1')):\n",
        "    # isdir = True\n",
        "    # print(f'{folder} : {isdir}')\n",
        "        if os.path.isfile(os.path.join(smri_folder_path , folder , 'anat_1','anat.nii.gz')):\n",
        "            print(f'The following file : anat.nii.gz is present in {folder}')\n",
        "            os.system('gunzip --keep '  + os.path.join(smri_folder_path , folder , 'anat_1','anat.nii'))\n",
        "    else:\n",
        "        print(f'The following file : anat.nii.gz is not present in {folder}')"
      ],
      "metadata": {
        "id": "lpkub3tC9l_W"
      },
      "execution_count": null,
      "outputs": []
    },
    {
      "cell_type": "code",
      "source": [
        "for folder in os.listdir(smri_folder_path):\n",
        "  if os.path.isdir(os.path.join(smri_folder_path , folder)):\n",
        "    uncompressed_output_folder = os.path.join(smri_folder_path, folder, 'Images Output')\n",
        "    os.makedirs(uncompressed_output_folder, exist_ok=True)\n"
      ],
      "metadata": {
        "id": "qd_GwcCv_mhJ"
      },
      "execution_count": null,
      "outputs": []
    },
    {
      "cell_type": "code",
      "source": [
        "done_smri = []"
      ],
      "metadata": {
        "id": "QYlsPViyACGK"
      },
      "execution_count": null,
      "outputs": []
    },
    {
      "cell_type": "code",
      "source": [
        "print(len(done_smri))"
      ],
      "metadata": {
        "id": "jgzxwx8oI3Tb"
      },
      "execution_count": null,
      "outputs": []
    },
    {
      "cell_type": "code",
      "source": [
        "for folder in os.listdir(smri_folder_path):\n",
        "  if int(folder) in done_smri:\n",
        "    continue\n",
        "  if os.path.isdir(os.path.join(smri_folder_path , folder , 'anat_1')):\n",
        "    #uncompressed_output_folder = os.path.join(fmri_folder_path, folder, 'Images Output')\n",
        "    #Load the scan and extract data using nibabel\n",
        "    scan = nib.load(os.path.join(smri_folder_path , folder , 'anat_1' , 'anat.nii'))\n",
        "    scanArray = scan.get_fdata()\n",
        "    #Get and print the scan's shape\n",
        "    scanArrayShape = scanArray.shape\n",
        "    print('The scan data array has the shape: ', scanArrayShape)\n",
        "\n",
        "    #num_timepoints = scanArrayShape[3]\n",
        "\n",
        "    # Function to normalize and convert the image to uint8\n",
        "    def normalize_image(image):\n",
        "        image = image - np.min(image)\n",
        "        image = image / np.max(image)\n",
        "        image = (image * 255).astype(np.uint8)\n",
        "        return image\n",
        "    # for time_point in range(num_timepoints):\n",
        "    #   scan3D = scanArray[:, :, :, time_point]\n",
        "\n",
        "    x = scanArray[scanArrayShape[0]//2 , :, :]\n",
        "    y = scanArray[:, scanArrayShape[1]//2 , :]\n",
        "    z = scanArray[:, :, scanArrayShape[2]//2 ]\n",
        "\n",
        "    x = normalize_image(x)\n",
        "    y = normalize_image(y)\n",
        "    z = normalize_image(z)\n",
        "\n",
        "\n",
        "\n",
        "\n",
        "    # Plot and save the axial slice\n",
        "    plt.figure( frameon=False , dpi =600)\n",
        "    plt.imshow(x  , aspect='auto', cmap = 'hot')\n",
        "    #plt.figure.set_size_inches(width = 10, height =5)\n",
        "\n",
        "    #plt.title(f'Axial Slice at Time Point {time_point}')\n",
        "    plt.axis('off')\n",
        "    plt.savefig(os.path.join(smri_folder_path ,folder ,'Images Output' , f'x.png') ,format='png', bbox_inches='tight', pad_inches=0)\n",
        "    plt.close()\n",
        "\n",
        "    # Plot and save the coronal slice\n",
        "    plt.figure( frameon=False, dpi =600)\n",
        "    #plt.figure.set_size_inches(width = 10, height =5)\n",
        "    plt.imshow(y ,  aspect ='auto', cmap = 'hot')\n",
        "    #plt.title(f'Coronal Slice at Time Point {time_point}')\n",
        "    plt.axis('off')\n",
        "    plt.savefig(os.path.join(smri_folder_path ,folder ,'Images Output', f'y.png') ,format='png', bbox_inches='tight', pad_inches=0)\n",
        "    plt.close()\n",
        "\n",
        "    # Plot and save the sagittal slice\n",
        "    plt.figure(frameon=False, dpi =600)\n",
        "    plt.imshow(z , aspect = 'auto' , cmap = 'hot')\n",
        "    #plt.figure.set_size_inches(width = 10, height =5)\n",
        "    #plt.title(f'Sagittal Slice at Time Point {time_point}')\n",
        "    plt.axis('off')\n",
        "    plt.savefig(os.path.join(smri_folder_path ,folder ,'Images Output', f'z.png') , format='png', bbox_inches='tight', pad_inches=0)\n",
        "    plt.close()\n",
        "\n",
        "    print(f\"Images saved in directory: {smri_folder_path ,folder ,'Images Output'}\")\n",
        "    done_smri.append(int(folder))"
      ],
      "metadata": {
        "id": "7Rt3ek6YACf9"
      },
      "execution_count": null,
      "outputs": []
    },
    {
      "cell_type": "code",
      "source": [
        "counter = 0\n",
        "for folder in os.listdir(smri_folder_path):\n",
        "\n",
        "    counter+=1\n",
        "    #print(int(folder))\n",
        "print(counter)"
      ],
      "metadata": {
        "id": "mDT2HQzGFnzU"
      },
      "execution_count": null,
      "outputs": []
    },
    {
      "cell_type": "markdown",
      "source": [
        "# Why did we normalize the images ?"
      ],
      "metadata": {
        "id": "Ql8UvBC0x6BQ"
      }
    },
    {
      "cell_type": "code",
      "source": [
        "# Normalization itself does not degrade image quality; rather, it scales the image data to a range that can be properly displayed or saved. For medical imaging data, normalization is often necessary because the raw data can have a wide range of values that are not directly suitable for visualization. Here’s a more detailed explanation:\n",
        "\n",
        "# Why Normalize?\n",
        "# Dynamic Range: The raw data from fMRI scans can have a wide range of values. Normalizing the data scales these values to a more manageable range, typically [0, 255] for 8-bit images, which is suitable for display and saving.\n",
        "# Visualization: Most image display functions and file formats (like PNG) expect pixel values to be in a specific range (e.g., 0-255 for 8-bit images). Normalization ensures that the full range of available colors or intensities is used, improving the visualization."
      ],
      "metadata": {
        "id": "QCgQjpEqx9_a"
      },
      "execution_count": null,
      "outputs": []
    },
    {
      "cell_type": "markdown",
      "source": [
        "# Why does the png images have low quality ?\n"
      ],
      "metadata": {
        "id": "c0Ow6sdAD_Im"
      }
    },
    {
      "cell_type": "code",
      "source": [
        "# Reasons for Perceived Low Quality\n",
        "# Low Resolution:\n",
        "\n",
        "# A 64x64 pixel image is relatively low in resolution, meaning each pixel represents a larger portion of the image, which can lead to a blocky or pixelated appearance when viewed at larger sizes.\n",
        "# This is not a limitation of Matplotlib or the PNG format but rather the inherent resolution of your data.\n",
        "# Upscaling:\n",
        "\n",
        "# When you view or save these images at larger sizes (e.g., in a larger window or with higher DPI settings), the lack of detail becomes more apparent.\n",
        "# Matplotlib or other visualization tools have to interpolate the data when displaying or saving at higher resolutions, which can lead to a blurred or pixelated look.\n",
        "# Strategies to Improve Perceived Quality\n",
        "# Interpolation Techniques:\n",
        "\n",
        "# While displaying the images, using different interpolation techniques can help improve the visual quality. Common techniques include bilinear or bicubic interpolation.\n",
        "# Resampling or Smoothing:\n",
        "\n",
        "# You can apply some image processing techniques to resample or smooth the image to enhance its visual quality. However, this won't add new detail but can make the image appear less pixelated.\n",
        "# Upsampling with Interpolation in Matplotlib:\n",
        "\n",
        "# You can adjust the interpolation method in imshow to see if it improves the appearance."
      ],
      "metadata": {
        "id": "cOuKem28EFva"
      },
      "execution_count": null,
      "outputs": []
    },
    {
      "cell_type": "markdown",
      "source": [
        "# Un Reliable Approach"
      ],
      "metadata": {
        "id": "TxWlskRyfpcv"
      }
    },
    {
      "cell_type": "code",
      "source": [
        "! chmod +x nii2png.py\n",
        "#!python3 nii2png.py -i {os.path.join(fmri_folder_path , '29008' , 'rest_1' , 'rest.nii')}  -o {os.path.join(fmri_folder_path, folder, 'Images Output')}\n",
        "#!python3 nii2png.py -i <os.path.join(fmri_folder_path , folder , 'rest_1' , 'rest.nii')> -o <os.path.join(fmri_folder_path, folder, 'Images Output')>"
      ],
      "metadata": {
        "id": "2vIAVj0O31G-"
      },
      "execution_count": null,
      "outputs": []
    }
  ]
}